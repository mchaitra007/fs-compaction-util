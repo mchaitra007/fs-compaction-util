{
 "cells": [
  {
   "cell_type": "markdown",
   "id": "bf7a0d2a",
   "metadata": {},
   "source": [
    "# SageMaker FeatureStore Offline Compact"
   ]
  },
  {
   "cell_type": "markdown",
   "id": "7a91ec96",
   "metadata": {},
   "source": [
    "## Introduction"
   ]
  },
  {
   "cell_type": "markdown",
   "id": "e4afff50",
   "metadata": {},
   "source": [
    "This notebook demonstrates the use of feature store compaction utility to address the problem of large number of small sized files in the offline feature store. The compaction utility - **featurestore_offline_compact_util.py** is a python script that takes in a feature group name and compacts the offline files for that feature group.\n",
    "\n",
    "There are 3 modes that the compaction supports:\n",
    "* **full** : This mode will compact all files till date for the given feature group \n",
    "* **incremental** : This mode will compact all files for the previous day for the given feature group. \n",
    "* **day** : This mode will compact all files for the specified date for the given feature group.\n",
    "\n",
    "The featurestore_offline_compact_util.compact_feature_group takes in these parameters:\n",
    "* **feature_group_name - Required**: Name of the feature group\n",
    "* **compact_mode - Optional**: The mode in which compaction should be run, supported modes are 'incremental','full','day'. Defaults to 'incremental'\n",
    "* **compact_uri - Optional**: Target S3 URI where the compacted files should be stored. Defaults to a \"compact-offline-store\" prefix parallel to \"offline\" prefix in the feature store S3 bucket. \n",
    "* **year, month, day - Required if mode is 'day'**: Specific date for which compaction should be run. Format should be YYYY for year, MM for month and DD for day.\n",
    "* **partition_mode - Optional**: Valid values are 'hour' and 'day', default is 'hour'. This specifies if the files need to be compacted for an hour, or compacted for the entire day into a single file.\n",
    "\n",
    "The featurestore_offline_compact_util runs a PySpark SageMaker Processing Job with  **featurestore_offline_compact_spark.py** as the script. The script has the logic to compact the feature group files in full, incremental or a day mode."
   ]
  },
  {
   "cell_type": "markdown",
   "id": "2e620bb2",
   "metadata": {},
   "source": [
    "## Execution"
   ]
  },
  {
   "cell_type": "markdown",
   "id": "934a2b68",
   "metadata": {},
   "source": [
    "**Invoke the util to compact the feature group**"
   ]
  },
  {
   "cell_type": "code",
   "execution_count": null,
   "id": "71f909d6",
   "metadata": {},
   "outputs": [],
   "source": [
    "import featurestore_offline_compact_util\n",
    "#compact_feature_group(feature_group_name: str, compact_mode: str, partition_mode: str, compact_uri: str, year: str, month: str, day: str)\n",
    "featurestore_offline_compact_util.compact_feature_group('fscw-products-10-12-19-32', 'full', 'hour', '', '2021', '10','12')"
   ]
  },
  {
   "cell_type": "code",
   "execution_count": null,
   "id": "9daf799f",
   "metadata": {},
   "outputs": [],
   "source": []
  }
 ],
 "metadata": {
  "kernelspec": {
   "display_name": "conda_python3",
   "language": "python",
   "name": "conda_python3"
  },
  "language_info": {
   "codemirror_mode": {
    "name": "ipython",
    "version": 3
   },
   "file_extension": ".py",
   "mimetype": "text/x-python",
   "name": "python",
   "nbconvert_exporter": "python",
   "pygments_lexer": "ipython3",
   "version": "3.6.13"
  }
 },
 "nbformat": 4,
 "nbformat_minor": 5
}
